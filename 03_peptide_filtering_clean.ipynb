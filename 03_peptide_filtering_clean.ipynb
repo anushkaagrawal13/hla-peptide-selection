{
 "cells": [
  {
   "cell_type": "code",
   "execution_count": 1,
   "id": "b6c90ec2-88c6-45cb-b917-da3307993f2b",
   "metadata": {},
   "outputs": [],
   "source": [
    "import pandas as pd\n",
    "import numpy as np\n",
    "import matplotlib.pyplot as plt\n",
    "import seaborn as sns"
   ]
  },
  {
   "cell_type": "code",
   "execution_count": 2,
   "id": "6e814656-a5ab-4388-84dd-274b51733e72",
   "metadata": {},
   "outputs": [],
   "source": [
    "df = pd.read_excel(\"/home/anushka.agrawal/hla_peptide_selection/braun_et_al_2025_supp1.xlsx\")"
   ]
  },
  {
   "cell_type": "code",
   "execution_count": 3,
   "id": "0a7afe6a-d75c-48aa-b4d8-a43c294433d0",
   "metadata": {},
   "outputs": [],
   "source": [
    "# rename columns to concatenate cell line / replicate info\n",
    "df.rename(columns={\n",
    "    'VMM1': 'VMM1/Nil 1',\n",
    "    'Unnamed: 6': 'VMM1/Nil 2',\n",
    "    'Unnamed: 7': 'VMM1/Nil 3',\n",
    "    'Unnamed: 8': 'VMM1/IFN 1',\n",
    "    'Unnamed: 9': 'VMM1/IFN 2',\n",
    "    'Unnamed: 10': 'VMM1/IFN 3',\n",
    "    \n",
    "    1106: '1106/Nil 1',\n",
    "    'Unnamed: 12': '1106/Nil 2',\n",
    "    'Unnamed: 13': '1106/Nil 3',\n",
    "    'Unnamed: 14': '1106/IFN 1',\n",
    "    'Unnamed: 15': '1106/IFN 2',\n",
    "    'Unnamed: 16': '1106/IFN 3',\n",
    "    \n",
    "    'A431_sC6': 'A431_sC6/Rep 1',\n",
    "    'Unnamed: 18': 'A431_sC6/Rep 2',\n",
    "    'Unnamed: 19': 'A431_sC6/Rep 3',\n",
    "}, inplace=True)\n",
    "\n",
    "df.dropna(subset=['Peptide'], inplace=True)"
   ]
  },
  {
   "cell_type": "code",
   "execution_count": 4,
   "id": "b3fabbae-4efc-4c0c-9193-32c86a994e36",
   "metadata": {},
   "outputs": [],
   "source": [
    "pd.set_option('display.max_columns', None)\n",
    "\n",
    "# drop empty column\n",
    "df.drop(['Unnamed: 23'], axis=1, inplace=True)\n",
    "\n",
    "# drop peptides w post-translational modifications\n",
    "df.drop(df[df['Modification'] != 'Not found'].index, inplace=True)\n",
    "\n",
    "# drop peptides that aren't high confidence from C0602 source based clustering \n",
    "df.drop(df[df['C0602 Source Based\\non Gibbs Clustering'] != 'high confidence'].index, inplace=True)"
   ]
  },
  {
   "cell_type": "code",
   "execution_count": 5,
   "id": "3dcf413a-1cae-446d-832b-bd98004f9ecb",
   "metadata": {},
   "outputs": [],
   "source": [
    "# add column indicating how many samples a peptide was detected in\n",
    "df['detection_count'] = 0\n",
    "\n",
    "# subset columns w mass spec data\n",
    "sample_cols = ['VMM1/Nil 1', 'VMM1/Nil 2', 'VMM1/Nil 3', 'VMM1/IFN 1', 'VMM1/IFN 2', 'VMM1/IFN 3', '1106/Nil 1', '1106/Nil 2', '1106/Nil 3', '1106/IFN 1', '1106/IFN 2', '1106/IFN 3', 'A431_sC6/Rep 1', 'A431_sC6/Rep 2', 'A431_sC6/Rep 3']\n",
    "\n",
    "def set_detection_count(row, cols):\n",
    "    \"\"\"\n",
    "    for a row, count how many of the mass spec cols are nonzero\n",
    "    \"\"\"\n",
    "    count = 0\n",
    "    for col in cols:\n",
    "        if pd.notna(row[col]) and row[col] != '-' and row[col] != 0:\n",
    "            count += 1\n",
    "    return count\n",
    "\n",
    "# set detection count to number of samples peptide was detected in\n",
    "df['detection_count'] = df.apply(set_detection_count, axis=1, args=[sample_cols])\n",
    "df.sort_values(by='detection_count', ascending=False, inplace=True)"
   ]
  },
  {
   "cell_type": "code",
   "execution_count": 6,
   "id": "eae186f6-1086-48d3-9ea7-e63932b18c8c",
   "metadata": {},
   "outputs": [],
   "source": [
    "# read in gtex\n",
    "gtex_df = pd.read_table(\"GTEx_Analysis_v10_RNASeQCv2.4.2_gene_median_tpm.gct\", sep='\\t', header=2)"
   ]
  },
  {
   "cell_type": "code",
   "execution_count": 7,
   "id": "71e4f970-d808-439e-8d50-720f6428f7a8",
   "metadata": {},
   "outputs": [],
   "source": [
    "# df w just gtex skin_sun_exposed_lower_leg\n",
    "gtex_leg_df = gtex_df[['Name', 'Description', 'Skin_Sun_Exposed_Lower_leg']]"
   ]
  },
  {
   "cell_type": "code",
   "execution_count": 8,
   "id": "4aa189d2-5616-4daa-bd52-8b879d15e381",
   "metadata": {
    "tags": []
   },
   "outputs": [],
   "source": [
    "# set uniprot id column\n",
    "df['uniprot_id'] = df['Accession'].apply(lambda x: x.split('|')[0])\n",
    "\n",
    "# map uniprot ids in df to ensembl\n",
    "ensembl_map = pd.read_table(\"/home/anushka.agrawal/hla_peptide_selection/ensembl_uniprot_mapping.txt\", sep='\\t')\n",
    "ensembl_map.rename(columns={\"UniProtKB Gene Name ID\":'uniprot_id'}, inplace=True)\n",
    "\n",
    "df = df.merge(ensembl_map, on='uniprot_id')"
   ]
  },
  {
   "cell_type": "code",
   "execution_count": 9,
   "id": "01d92528-a06e-4a1a-8371-cadb096c118b",
   "metadata": {
    "tags": []
   },
   "outputs": [
    {
     "name": "stderr",
     "output_type": "stream",
     "text": [
      "/tmp/ipykernel_3007096/3521245142.py:3: SettingWithCopyWarning: \n",
      "A value is trying to be set on a copy of a slice from a DataFrame.\n",
      "Try using .loc[row_indexer,col_indexer] = value instead\n",
      "\n",
      "See the caveats in the documentation: https://pandas.pydata.org/pandas-docs/stable/user_guide/indexing.html#returning-a-view-versus-a-copy\n",
      "  gtex_leg_df['ensembl ID'] = gtex_leg_df['Name'].apply(lambda x: x.split('.')[0])\n"
     ]
    }
   ],
   "source": [
    "# merge on ensembl id\n",
    "df.rename(columns={'Gene stable ID':'ensembl ID'}, inplace=True)\n",
    "gtex_leg_df['ensembl ID'] = gtex_leg_df['Name'].apply(lambda x: x.split('.')[0])\n",
    "\n",
    "df = df.merge(gtex_leg_df, on='ensembl ID')\n",
    "df.drop(columns='Name',inplace=True)"
   ]
  },
  {
   "cell_type": "code",
   "execution_count": 10,
   "id": "77f3d061-611a-4230-a8e1-f0aca362978e",
   "metadata": {},
   "outputs": [],
   "source": [
    "# find median intensity across all samples\n",
    "df[sample_cols] = df[sample_cols].apply(pd.to_numeric, errors='coerce')  \n",
    "df['median_intensity'] = df[sample_cols].median(axis=1, skipna=True)"
   ]
  },
  {
   "cell_type": "code",
   "execution_count": 11,
   "id": "ffc9f6db-0220-4674-8e58-82243d2c8bc9",
   "metadata": {},
   "outputs": [],
   "source": [
    "df.sort_values(by=['detection_count','Skin_Sun_Exposed_Lower_leg'], ascending=[False, False], inplace=True)"
   ]
  },
  {
   "cell_type": "code",
   "execution_count": 13,
   "id": "9cadf6dc-3f4d-4f52-bd64-64103a0de788",
   "metadata": {},
   "outputs": [],
   "source": [
    "sample_cols = ['VMM1/Nil 1', 'VMM1/Nil 2', 'VMM1/Nil 3', 'VMM1/IFN 1', 'VMM1/IFN 2', 'VMM1/IFN 3', '1106/Nil 1', '1106/Nil 2', '1106/Nil 3', '1106/IFN 1', '1106/IFN 2', '1106/IFN 3', 'A431_sC6/Rep 1', 'A431_sC6/Rep 2', 'A431_sC6/Rep 3']\n",
    "\n",
    "# get detection counts and median intensity for melanocytes and keratinocytes\n",
    "melanocyte_cols = ['VMM1/Nil 1', 'VMM1/Nil 2', 'VMM1/Nil 3', 'VMM1/IFN 1', 'VMM1/IFN 2', 'VMM1/IFN 3']\n",
    "keratinocyte_cols = ['1106/Nil 1', '1106/Nil 2', '1106/Nil 3', '1106/IFN 1', '1106/IFN 2', '1106/IFN 3','A431_sC6/Rep 1', 'A431_sC6/Rep 2', 'A431_sC6/Rep 3']\n",
    "\n",
    "df['melanocyte_median_intensity'] = df[melanocyte_cols].median(axis=1, skipna=True)\n",
    "df['keratinocyte_median_intensity'] = df[keratinocyte_cols].median(axis=1, skipna=True)\n",
    "\n",
    "\n",
    "df['melanocyte_detection_count'] = df.apply(set_detection_count, axis=1, args=[melanocyte_cols])\n",
    "df['keratinocyte_detection_count'] = df.apply(set_detection_count, axis=1, args=[keratinocyte_cols])"
   ]
  },
  {
   "cell_type": "code",
   "execution_count": 14,
   "id": "3885b5d6-4a31-453d-a7c0-86259583225e",
   "metadata": {},
   "outputs": [],
   "source": [
    "# add rankings to df\n",
    "melanocyte_peptides_ranked = df.sort_values(by=['melanocyte_detection_count','NetMHCpan.4 \\nScore'], ascending=[False, True]).reset_index(drop=True).reset_index()\n",
    "melanocyte_peptides_ranked.rename(columns={'index':'melanocyte_rank'}, inplace=True)\n",
    "melanocyte_peptides_ranked['melanocyte_rank'] += 1\n",
    "\n",
    "keratinocyte_peptides_ranked = df.sort_values(by=['keratinocyte_detection_count','NetMHCpan.4 \\nScore'], ascending=[False, True]).reset_index(drop=True).reset_index()\n",
    "keratinocyte_peptides_ranked.rename(columns={'index':'keratinocyte_rank'}, inplace=True)\n",
    "keratinocyte_peptides_ranked['keratinocyte_rank'] += 1\n",
    "\n",
    "gtex_skinleg_peptides_ranked = df.sort_values(by=['Skin_Sun_Exposed_Lower_leg', 'detection_count'], ascending=[False, False]).reset_index(drop=True).reset_index()\n",
    "gtex_skinleg_peptides_ranked.rename(columns={'index':'gtex_rank'}, inplace=True)\n",
    "gtex_skinleg_peptides_ranked.rename(columns={'Skin_Sun_Exposed_Lower_leg':'GTEx_Skin_Sun_Exposed_Lower_leg'}, inplace=True)"
   ]
  },
  {
   "cell_type": "code",
   "execution_count": 15,
   "id": "2c8c4766-a047-4c5e-a237-4c9d9ca3319b",
   "metadata": {},
   "outputs": [],
   "source": [
    "melanocyte_ranked = melanocyte_peptides_ranked[['Accession', 'melanocyte_rank', 'Peptide', 'ensembl ID']]\n",
    "keratinocyte_ranked = keratinocyte_peptides_ranked[['Accession', 'keratinocyte_rank', 'Peptide', 'ensembl ID']]\n",
    "gtex_ranked = gtex_skinleg_peptides_ranked[['Accession', 'gtex_rank', 'Peptide', 'ensembl ID']]"
   ]
  },
  {
   "cell_type": "code",
   "execution_count": 16,
   "id": "efd44df5-4246-4c35-83c9-1247008e3dc8",
   "metadata": {},
   "outputs": [],
   "source": [
    "merged_df = df.merge(melanocyte_ranked, on=['Accession', 'Peptide', 'ensembl ID']).drop_duplicates('melanocyte_rank')\n",
    "merged_df = merged_df.merge(keratinocyte_ranked, on=['Accession', 'Peptide', 'ensembl ID']).drop_duplicates('keratinocyte_rank')\n",
    "merged_df = merged_df.merge(gtex_ranked, on=['Accession', 'Peptide', 'ensembl ID']).drop_duplicates('gtex_rank')"
   ]
  },
  {
   "cell_type": "code",
   "execution_count": 17,
   "id": "acb3e88b-3862-4a67-91ee-b8d529026057",
   "metadata": {},
   "outputs": [],
   "source": [
    "# also add rankings specifically for 1106 and A431 keratinocyte cell lines\n",
    "cols_1106 = ['1106/Nil 1', '1106/Nil 2', '1106/Nil 3', '1106/IFN 1', '1106/IFN 2', '1106/IFN 3']\n",
    "cols_A431 = ['A431_sC6/Rep 1', 'A431_sC6/Rep 2', 'A431_sC6/Rep 3']\n",
    "\n",
    "df['1106_median_intensity'] = df[cols_1106].median(axis=1, skipna=True)\n",
    "df['A431_median_intensity'] = df[cols_A431].median(axis=1, skipna=True)\n",
    "\n",
    "df['1106_detection_count'] = df.apply(set_detection_count, axis=1, args=[cols_1106])\n",
    "df['A431_detection_count'] = df.apply(set_detection_count, axis=1, args=[cols_A431])\n",
    "\n",
    "ranked_1106 = df.sort_values(by=['1106_detection_count','NetMHCpan.4 \\nScore'], ascending=[False, True]).reset_index(drop=True).reset_index()\n",
    "ranked_1106.rename(columns={'index':'1106_rank'}, inplace=True)\n",
    "ranked_1106['1106_rank'] += 1\n",
    "\n",
    "ranked_A431 = df.sort_values(by=['A431_detection_count','NetMHCpan.4 \\nScore'], ascending=[False, True]).reset_index(drop=True).reset_index()\n",
    "ranked_A431.rename(columns={'index':'A431_rank'}, inplace=True)\n",
    "ranked_A431['A431_rank'] += 1\n",
    "\n",
    "ranked_1106 = ranked_1106[['Accession', '1106_rank', 'Peptide', 'ensembl ID']]\n",
    "ranked_A431 = ranked_A431[['Accession', 'A431_rank', 'Peptide', 'ensembl ID']]\n",
    "\n",
    "merged_df = df.merge(ranked_1106, on=['Accession', 'Peptide', 'ensembl ID']).drop_duplicates('1106_rank')\n",
    "merged_df = df.merge(ranked_A431, on=['Accession', 'Peptide', 'ensembl ID']).drop_duplicates('A431_rank')"
   ]
  },
  {
   "cell_type": "code",
   "execution_count": 22,
   "id": "4191a1d8-c77a-4880-8d69-201628ee88ed",
   "metadata": {},
   "outputs": [
    {
     "data": {
      "text/plain": [
       "(10331, 39)"
      ]
     },
     "execution_count": 22,
     "metadata": {},
     "output_type": "execute_result"
    }
   ],
   "source": [
    "# drop duplicates\n",
    "merged_df.drop_duplicates('Peptide', inplace=True)\n",
    "\n",
    "# drop some metadata cols\n",
    "merged_df.drop(columns=['Pos', 'Modification', 'C0602 Binding Prediction\\n(SB = strong binder, WB = weak binder)', 'C0602 Source Based\\non Gibbs Clustering'], inplace=True)\n",
    "merged_df.shape"
   ]
  },
  {
   "cell_type": "code",
   "execution_count": 23,
   "id": "f053a699-11a6-4f6f-b999-030814a145a8",
   "metadata": {},
   "outputs": [
    {
     "data": {
      "text/html": [
       "<div>\n",
       "<style scoped>\n",
       "    .dataframe tbody tr th:only-of-type {\n",
       "        vertical-align: middle;\n",
       "    }\n",
       "\n",
       "    .dataframe tbody tr th {\n",
       "        vertical-align: top;\n",
       "    }\n",
       "\n",
       "    .dataframe thead th {\n",
       "        text-align: right;\n",
       "    }\n",
       "</style>\n",
       "<table border=\"1\" class=\"dataframe\">\n",
       "  <thead>\n",
       "    <tr style=\"text-align: right;\">\n",
       "      <th></th>\n",
       "      <th>Pos</th>\n",
       "      <th>Peptide</th>\n",
       "      <th>netMHCpan4_1</th>\n",
       "      <th>netMHCpan4_1_binding_prediction</th>\n",
       "    </tr>\n",
       "  </thead>\n",
       "  <tbody>\n",
       "    <tr>\n",
       "      <th>0</th>\n",
       "      <td>0</td>\n",
       "      <td>TRQDHAQQL</td>\n",
       "      <td>0.0066</td>\n",
       "      <td>SB</td>\n",
       "    </tr>\n",
       "    <tr>\n",
       "      <th>1</th>\n",
       "      <td>0</td>\n",
       "      <td>SSGPQRLV</td>\n",
       "      <td>4.3740</td>\n",
       "      <td>None</td>\n",
       "    </tr>\n",
       "    <tr>\n",
       "      <th>2</th>\n",
       "      <td>0</td>\n",
       "      <td>GGDSSSGPQRLV</td>\n",
       "      <td>30.3000</td>\n",
       "      <td>None</td>\n",
       "    </tr>\n",
       "    <tr>\n",
       "      <th>3</th>\n",
       "      <td>0</td>\n",
       "      <td>DSSSGPQRLV</td>\n",
       "      <td>14.4174</td>\n",
       "      <td>None</td>\n",
       "    </tr>\n",
       "    <tr>\n",
       "      <th>4</th>\n",
       "      <td>0</td>\n",
       "      <td>SSSGPQRLV</td>\n",
       "      <td>0.3362</td>\n",
       "      <td>SB</td>\n",
       "    </tr>\n",
       "  </tbody>\n",
       "</table>\n",
       "</div>"
      ],
      "text/plain": [
       "   Pos       Peptide  netMHCpan4_1 netMHCpan4_1_binding_prediction\n",
       "0    0     TRQDHAQQL        0.0066                              SB\n",
       "1    0      SSGPQRLV        4.3740                            None\n",
       "2    0  GGDSSSGPQRLV       30.3000                            None\n",
       "3    0    DSSSGPQRLV       14.4174                            None\n",
       "4    0     SSSGPQRLV        0.3362                              SB"
      ]
     },
     "execution_count": 23,
     "metadata": {},
     "output_type": "execute_result"
    }
   ],
   "source": [
    "# read in netMHCpan 4.1 results for peptides in merged df\n",
    "netmhc_4_1 = pd.read_excel(\"netMHCpan4_1_results.xlsx\", header=1)\n",
    "\n",
    "netmhc_4_1['NB'] = netmhc_4_1['EL_Rank'].apply(lambda x: 'SB' if x <= 0.5 else ('WB' if x <= 2 else None))\n",
    "netmhc_4_1.rename(columns={'EL_Rank':'netMHCpan4_1', 'NB':'netMHCpan4_1_binding_prediction'}, inplace=True)\n",
    "netmhc_4_1.drop(columns=['ID', 'core', 'icore', 'Ave', 'EL-score'], inplace=True)"
   ]
  },
  {
   "cell_type": "code",
   "execution_count": 24,
   "id": "51a1d2ee-d580-4e53-8869-152874a74a2a",
   "metadata": {},
   "outputs": [],
   "source": [
    "# merge netMHCpan 4.1 with df\n",
    "merged_df = merged_df.merge(netmhc_4_1, on='Peptide').drop_duplicates()"
   ]
  },
  {
   "cell_type": "code",
   "execution_count": 26,
   "id": "78963fe0-26cc-4381-92b9-8a0a51b8a87f",
   "metadata": {},
   "outputs": [
    {
     "data": {
      "text/plain": [
       "(10331, 42)"
      ]
     },
     "execution_count": 26,
     "metadata": {},
     "output_type": "execute_result"
    }
   ],
   "source": [
    "merged_df.shape"
   ]
  },
  {
   "cell_type": "code",
   "execution_count": null,
   "id": "d3a42b29-3288-4117-9aff-a65f5aba823a",
   "metadata": {},
   "outputs": [],
   "source": [
    "# write to csv\n",
    "merged_df.to_csv(\"braun2025_peptide_rank.csv\", index=False)"
   ]
  }
 ],
 "metadata": {
  "kernelspec": {
   "display_name": "Python 3 (ipykernel)",
   "language": "python",
   "name": "python3"
  },
  "language_info": {
   "codemirror_mode": {
    "name": "ipython",
    "version": 3
   },
   "file_extension": ".py",
   "mimetype": "text/x-python",
   "name": "python",
   "nbconvert_exporter": "python",
   "pygments_lexer": "ipython3",
   "version": "3.10.9"
  }
 },
 "nbformat": 4,
 "nbformat_minor": 5
}
